{
  "nbformat": 4,
  "nbformat_minor": 0,
  "metadata": {
    "colab": {
      "name": "Untitled0.ipynb",
      "version": "0.3.2",
      "provenance": [],
      "collapsed_sections": []
    },
    "kernelspec": {
      "name": "python3",
      "display_name": "Python 3"
    }
  },
  "cells": [
    {
      "metadata": {
        "id": "bU8UdNM-wgnA",
        "colab_type": "code",
        "colab": {
          "base_uri": "https://localhost:8080/",
          "height": 51
        },
        "outputId": "57b363c3-89ce-4905-d5f7-9e8ee170b9dc"
      },
      "cell_type": "code",
      "source": [
        "!pip install -U -q PyDrive\n",
        "\n",
        "from pydrive.auth import GoogleAuth\n",
        "from pydrive.drive import GoogleDrive\n",
        "from google.colab import auth\n",
        "from oauth2client.client import GoogleCredentials\n",
        "\n",
        "auth.authenticate_user()\n",
        "gauth = GoogleAuth()\n",
        "gauth.credentials = GoogleCredentials.get_application_default()\n",
        "drive = GoogleDrive(gauth)"
      ],
      "execution_count": 2,
      "outputs": [
        {
          "output_type": "stream",
          "text": [
            "\u001b[?25l\r\u001b[K    1% |▎                               | 10kB 18.5MB/s eta 0:00:01\r\u001b[K    2% |▋                               | 20kB 3.4MB/s eta 0:00:01\r\u001b[K    3% |█                               | 30kB 4.8MB/s eta 0:00:01\r\u001b[K    4% |█▎                              | 40kB 3.1MB/s eta 0:00:01\r\u001b[K    5% |█▋                              | 51kB 3.8MB/s eta 0:00:01\r\u001b[K    6% |██                              | 61kB 4.5MB/s eta 0:00:01\r\u001b[K    7% |██▎                             | 71kB 5.1MB/s eta 0:00:01\r\u001b[K    8% |██▋                             | 81kB 5.8MB/s eta 0:00:01\r\u001b[K    9% |███                             | 92kB 6.4MB/s eta 0:00:01\r\u001b[K    10% |███▎                            | 102kB 5.0MB/s eta 0:00:01\r\u001b[K    11% |███▋                            | 112kB 5.0MB/s eta 0:00:01\r\u001b[K    12% |████                            | 122kB 6.8MB/s eta 0:00:01\r\u001b[K    13% |████▎                           | 133kB 6.8MB/s eta 0:00:01\r\u001b[K    14% |████▋                           | 143kB 12.4MB/s eta 0:00:01\r\u001b[K    15% |█████                           | 153kB 12.7MB/s eta 0:00:01\r\u001b[K    16% |█████▎                          | 163kB 12.7MB/s eta 0:00:01\r\u001b[K    17% |█████▋                          | 174kB 12.3MB/s eta 0:00:01\r\u001b[K    18% |██████                          | 184kB 12.3MB/s eta 0:00:01\r\u001b[K    19% |██████▎                         | 194kB 12.3MB/s eta 0:00:01\r\u001b[K    20% |██████▋                         | 204kB 40.7MB/s eta 0:00:01\r\u001b[K    21% |███████                         | 215kB 14.7MB/s eta 0:00:01\r\u001b[K    22% |███████▎                        | 225kB 14.7MB/s eta 0:00:01\r\u001b[K    23% |███████▋                        | 235kB 15.0MB/s eta 0:00:01\r\u001b[K    24% |████████                        | 245kB 14.8MB/s eta 0:00:01\r\u001b[K    25% |████████▎                       | 256kB 14.9MB/s eta 0:00:01\r\u001b[K    26% |████████▋                       | 266kB 14.1MB/s eta 0:00:01\r\u001b[K    27% |█████████                       | 276kB 14.7MB/s eta 0:00:01\r\u001b[K    29% |█████████▎                      | 286kB 14.9MB/s eta 0:00:01\r\u001b[K    30% |█████████▋                      | 296kB 14.9MB/s eta 0:00:01\r\u001b[K    31% |██████████                      | 307kB 15.4MB/s eta 0:00:01\r\u001b[K    32% |██████████▎                     | 317kB 51.8MB/s eta 0:00:01\r\u001b[K    33% |██████████▋                     | 327kB 54.1MB/s eta 0:00:01\r\u001b[K    34% |███████████                     | 337kB 56.3MB/s eta 0:00:01\r\u001b[K    35% |███████████▎                    | 348kB 50.6MB/s eta 0:00:01\r\u001b[K    36% |███████████▋                    | 358kB 50.6MB/s eta 0:00:01\r\u001b[K    37% |████████████                    | 368kB 61.8MB/s eta 0:00:01\r\u001b[K    38% |████████████▎                   | 378kB 62.2MB/s eta 0:00:01\r\u001b[K    39% |████████████▋                   | 389kB 63.7MB/s eta 0:00:01\r\u001b[K    40% |█████████████                   | 399kB 18.1MB/s eta 0:00:01\r\u001b[K    41% |█████████████▎                  | 409kB 17.6MB/s eta 0:00:01\r\u001b[K    42% |█████████████▋                  | 419kB 17.5MB/s eta 0:00:01\r\u001b[K    43% |██████████████                  | 430kB 17.4MB/s eta 0:00:01\r\u001b[K    44% |██████████████▎                 | 440kB 17.3MB/s eta 0:00:01\r\u001b[K    45% |██████████████▋                 | 450kB 17.6MB/s eta 0:00:01\r\u001b[K    46% |███████████████                 | 460kB 17.4MB/s eta 0:00:01\r\u001b[K    47% |███████████████▎                | 471kB 17.4MB/s eta 0:00:01\r\u001b[K    48% |███████████████▋                | 481kB 17.4MB/s eta 0:00:01\r\u001b[K    49% |████████████████                | 491kB 17.4MB/s eta 0:00:01\r\u001b[K    50% |████████████████▎               | 501kB 56.4MB/s eta 0:00:01\r\u001b[K    51% |████████████████▋               | 512kB 55.4MB/s eta 0:00:01\r\u001b[K    52% |█████████████████               | 522kB 56.0MB/s eta 0:00:01\r\u001b[K    53% |█████████████████▎              | 532kB 57.8MB/s eta 0:00:01\r\u001b[K    54% |█████████████████▋              | 542kB 57.5MB/s eta 0:00:01\r\u001b[K    55% |██████████████████              | 552kB 65.3MB/s eta 0:00:01\r\u001b[K    57% |██████████████████▎             | 563kB 67.9MB/s eta 0:00:01\r\u001b[K    58% |██████████████████▋             | 573kB 68.6MB/s eta 0:00:01\r\u001b[K    59% |███████████████████             | 583kB 69.1MB/s eta 0:00:01\r\u001b[K    60% |███████████████████▎            | 593kB 67.3MB/s eta 0:00:01\r\u001b[K    61% |███████████████████▋            | 604kB 67.0MB/s eta 0:00:01\r\u001b[K    62% |████████████████████            | 614kB 75.5MB/s eta 0:00:01\r\u001b[K    63% |████████████████████▎           | 624kB 76.7MB/s eta 0:00:01\r\u001b[K    64% |████████████████████▋           | 634kB 76.7MB/s eta 0:00:01\r\u001b[K    65% |█████████████████████           | 645kB 77.9MB/s eta 0:00:01\r\u001b[K    66% |█████████████████████▎          | 655kB 76.6MB/s eta 0:00:01\r\u001b[K    67% |█████████████████████▋          | 665kB 51.1MB/s eta 0:00:01\r\u001b[K    68% |██████████████████████          | 675kB 22.6MB/s eta 0:00:01\r\u001b[K    69% |██████████████████████▎         | 686kB 21.9MB/s eta 0:00:01\r\u001b[K    70% |██████████████████████▋         | 696kB 21.8MB/s eta 0:00:01\r\u001b[K    71% |███████████████████████         | 706kB 21.3MB/s eta 0:00:01\r\u001b[K    72% |███████████████████████▎        | 716kB 21.3MB/s eta 0:00:01\r\u001b[K    73% |███████████████████████▋        | 727kB 21.2MB/s eta 0:00:01\r\u001b[K    74% |████████████████████████        | 737kB 21.0MB/s eta 0:00:01\r\u001b[K    75% |████████████████████████▎       | 747kB 21.0MB/s eta 0:00:01\r\u001b[K    76% |████████████████████████▋       | 757kB 21.0MB/s eta 0:00:01\r\u001b[K    77% |████████████████████████▉       | 768kB 24.4MB/s eta 0:00:01\r\u001b[K    78% |█████████████████████████▏      | 778kB 59.8MB/s eta 0:00:01\r\u001b[K    79% |█████████████████████████▌      | 788kB 63.5MB/s eta 0:00:01\r\u001b[K    80% |█████████████████████████▉      | 798kB 64.8MB/s eta 0:00:01\r\u001b[K    81% |██████████████████████████▏     | 808kB 67.7MB/s eta 0:00:01\r\u001b[K    82% |██████████████████████████▌     | 819kB 68.2MB/s eta 0:00:01\r\u001b[K    83% |██████████████████████████▉     | 829kB 69.3MB/s eta 0:00:01\r\u001b[K    85% |███████████████████████████▏    | 839kB 69.5MB/s eta 0:00:01\r\u001b[K    86% |███████████████████████████▌    | 849kB 68.4MB/s eta 0:00:01\r\u001b[K    87% |███████████████████████████▉    | 860kB 54.0MB/s eta 0:00:01\r\u001b[K    88% |████████████████████████████▏   | 870kB 52.6MB/s eta 0:00:01\r\u001b[K    89% |████████████████████████████▌   | 880kB 53.8MB/s eta 0:00:01\r\u001b[K    90% |████████████████████████████▉   | 890kB 54.9MB/s eta 0:00:01\r\u001b[K    91% |█████████████████████████████▏  | 901kB 55.8MB/s eta 0:00:01\r\u001b[K    92% |█████████████████████████████▌  | 911kB 56.9MB/s eta 0:00:01\r\u001b[K    93% |█████████████████████████████▉  | 921kB 57.4MB/s eta 0:00:01\r\u001b[K    94% |██████████████████████████████▏ | 931kB 58.0MB/s eta 0:00:01\r\u001b[K    95% |██████████████████████████████▌ | 942kB 58.8MB/s eta 0:00:01\r\u001b[K    96% |██████████████████████████████▉ | 952kB 59.8MB/s eta 0:00:01\r\u001b[K    97% |███████████████████████████████▏| 962kB 79.6MB/s eta 0:00:01\r\u001b[K    98% |███████████████████████████████▌| 972kB 81.4MB/s eta 0:00:01\r\u001b[K    99% |███████████████████████████████▉| 983kB 79.8MB/s eta 0:00:01\r\u001b[K    100% |████████████████████████████████| 993kB 20.2MB/s \n",
            "\u001b[?25h  Building wheel for PyDrive (setup.py) ... \u001b[?25ldone\n",
            "\u001b[?25h"
          ],
          "name": "stdout"
        }
      ]
    },
    {
      "metadata": {
        "id": "LoCdQxd8wliH",
        "colab_type": "code",
        "colab": {}
      },
      "cell_type": "code",
      "source": [
        "file = drive.CreateFile({'id':'1BmXe8XIPvbghz7kMEjmt9vBX8LZbX4Jq'}) # replace the id with id of file you want to access\n",
        "file.GetContentFile('churn.all') "
      ],
      "execution_count": 0,
      "outputs": []
    },
    {
      "metadata": {
        "id": "RiKswKXyyyBm",
        "colab_type": "code",
        "colab": {}
      },
      "cell_type": "code",
      "source": [
        "import warnings\n",
        "warnings.filterwarnings('ignore')\n",
        "\n",
        "import pandas as pd\n",
        "import numpy as np\n",
        "pd.set_option('display.max_columns',None)\n",
        "churn_df=pd.read_csv('churn.all')"
      ],
      "execution_count": 0,
      "outputs": []
    },
    {
      "metadata": {
        "id": "77bwPdmByyES",
        "colab_type": "code",
        "colab": {
          "base_uri": "https://localhost:8080/",
          "height": 317
        },
        "outputId": "0bcab73c-b846-469e-fb4c-7e55ab87ddb2"
      },
      "cell_type": "code",
      "source": [
        "churn_df.describe()\n"
      ],
      "execution_count": 5,
      "outputs": [
        {
          "output_type": "execute_result",
          "data": {
            "text/html": [
              "<div>\n",
              "<style scoped>\n",
              "    .dataframe tbody tr th:only-of-type {\n",
              "        vertical-align: middle;\n",
              "    }\n",
              "\n",
              "    .dataframe tbody tr th {\n",
              "        vertical-align: top;\n",
              "    }\n",
              "\n",
              "    .dataframe thead th {\n",
              "        text-align: right;\n",
              "    }\n",
              "</style>\n",
              "<table border=\"1\" class=\"dataframe\">\n",
              "  <thead>\n",
              "    <tr style=\"text-align: right;\">\n",
              "      <th></th>\n",
              "      <th>account_length</th>\n",
              "      <th>area_code</th>\n",
              "      <th>number_vmail_messages</th>\n",
              "      <th>total_day_minutes</th>\n",
              "      <th>total_day_calls</th>\n",
              "      <th>total_day_charge</th>\n",
              "      <th>total_eve_minutes</th>\n",
              "      <th>total_eve_calls</th>\n",
              "      <th>total_eve_charge</th>\n",
              "      <th>total_night_minutes</th>\n",
              "      <th>total_night_calls</th>\n",
              "      <th>total_night_charge</th>\n",
              "      <th>total_intl_minutes</th>\n",
              "      <th>total_intl_calls</th>\n",
              "      <th>total_intl_charge</th>\n",
              "      <th>number_customer_service_calls</th>\n",
              "    </tr>\n",
              "  </thead>\n",
              "  <tbody>\n",
              "    <tr>\n",
              "      <th>count</th>\n",
              "      <td>5000.00000</td>\n",
              "      <td>5000.000000</td>\n",
              "      <td>5000.000000</td>\n",
              "      <td>5000.000000</td>\n",
              "      <td>5000.000000</td>\n",
              "      <td>5000.000000</td>\n",
              "      <td>5000.000000</td>\n",
              "      <td>5000.000000</td>\n",
              "      <td>5000.000000</td>\n",
              "      <td>5000.000000</td>\n",
              "      <td>5000.000000</td>\n",
              "      <td>5000.000000</td>\n",
              "      <td>5000.000000</td>\n",
              "      <td>5000.000000</td>\n",
              "      <td>5000.000000</td>\n",
              "      <td>5000.000000</td>\n",
              "    </tr>\n",
              "    <tr>\n",
              "      <th>mean</th>\n",
              "      <td>100.25860</td>\n",
              "      <td>436.911400</td>\n",
              "      <td>7.755200</td>\n",
              "      <td>180.288900</td>\n",
              "      <td>100.029400</td>\n",
              "      <td>30.649668</td>\n",
              "      <td>200.636560</td>\n",
              "      <td>100.191000</td>\n",
              "      <td>17.054322</td>\n",
              "      <td>200.391620</td>\n",
              "      <td>99.919200</td>\n",
              "      <td>9.017732</td>\n",
              "      <td>10.261780</td>\n",
              "      <td>4.435200</td>\n",
              "      <td>2.771196</td>\n",
              "      <td>1.570400</td>\n",
              "    </tr>\n",
              "    <tr>\n",
              "      <th>std</th>\n",
              "      <td>39.69456</td>\n",
              "      <td>42.209182</td>\n",
              "      <td>13.546393</td>\n",
              "      <td>53.894699</td>\n",
              "      <td>19.831197</td>\n",
              "      <td>9.162069</td>\n",
              "      <td>50.551309</td>\n",
              "      <td>19.826496</td>\n",
              "      <td>4.296843</td>\n",
              "      <td>50.527789</td>\n",
              "      <td>19.958686</td>\n",
              "      <td>2.273763</td>\n",
              "      <td>2.761396</td>\n",
              "      <td>2.456788</td>\n",
              "      <td>0.745514</td>\n",
              "      <td>1.306363</td>\n",
              "    </tr>\n",
              "    <tr>\n",
              "      <th>min</th>\n",
              "      <td>1.00000</td>\n",
              "      <td>408.000000</td>\n",
              "      <td>0.000000</td>\n",
              "      <td>0.000000</td>\n",
              "      <td>0.000000</td>\n",
              "      <td>0.000000</td>\n",
              "      <td>0.000000</td>\n",
              "      <td>0.000000</td>\n",
              "      <td>0.000000</td>\n",
              "      <td>0.000000</td>\n",
              "      <td>0.000000</td>\n",
              "      <td>0.000000</td>\n",
              "      <td>0.000000</td>\n",
              "      <td>0.000000</td>\n",
              "      <td>0.000000</td>\n",
              "      <td>0.000000</td>\n",
              "    </tr>\n",
              "    <tr>\n",
              "      <th>25%</th>\n",
              "      <td>73.00000</td>\n",
              "      <td>408.000000</td>\n",
              "      <td>0.000000</td>\n",
              "      <td>143.700000</td>\n",
              "      <td>87.000000</td>\n",
              "      <td>24.430000</td>\n",
              "      <td>166.375000</td>\n",
              "      <td>87.000000</td>\n",
              "      <td>14.140000</td>\n",
              "      <td>166.900000</td>\n",
              "      <td>87.000000</td>\n",
              "      <td>7.510000</td>\n",
              "      <td>8.500000</td>\n",
              "      <td>3.000000</td>\n",
              "      <td>2.300000</td>\n",
              "      <td>1.000000</td>\n",
              "    </tr>\n",
              "    <tr>\n",
              "      <th>50%</th>\n",
              "      <td>100.00000</td>\n",
              "      <td>415.000000</td>\n",
              "      <td>0.000000</td>\n",
              "      <td>180.100000</td>\n",
              "      <td>100.000000</td>\n",
              "      <td>30.620000</td>\n",
              "      <td>201.000000</td>\n",
              "      <td>100.000000</td>\n",
              "      <td>17.090000</td>\n",
              "      <td>200.400000</td>\n",
              "      <td>100.000000</td>\n",
              "      <td>9.020000</td>\n",
              "      <td>10.300000</td>\n",
              "      <td>4.000000</td>\n",
              "      <td>2.780000</td>\n",
              "      <td>1.000000</td>\n",
              "    </tr>\n",
              "    <tr>\n",
              "      <th>75%</th>\n",
              "      <td>127.00000</td>\n",
              "      <td>415.000000</td>\n",
              "      <td>17.000000</td>\n",
              "      <td>216.200000</td>\n",
              "      <td>113.000000</td>\n",
              "      <td>36.750000</td>\n",
              "      <td>234.100000</td>\n",
              "      <td>114.000000</td>\n",
              "      <td>19.900000</td>\n",
              "      <td>234.700000</td>\n",
              "      <td>113.000000</td>\n",
              "      <td>10.560000</td>\n",
              "      <td>12.000000</td>\n",
              "      <td>6.000000</td>\n",
              "      <td>3.240000</td>\n",
              "      <td>2.000000</td>\n",
              "    </tr>\n",
              "    <tr>\n",
              "      <th>max</th>\n",
              "      <td>243.00000</td>\n",
              "      <td>510.000000</td>\n",
              "      <td>52.000000</td>\n",
              "      <td>351.500000</td>\n",
              "      <td>165.000000</td>\n",
              "      <td>59.760000</td>\n",
              "      <td>363.700000</td>\n",
              "      <td>170.000000</td>\n",
              "      <td>30.910000</td>\n",
              "      <td>395.000000</td>\n",
              "      <td>175.000000</td>\n",
              "      <td>17.770000</td>\n",
              "      <td>20.000000</td>\n",
              "      <td>20.000000</td>\n",
              "      <td>5.400000</td>\n",
              "      <td>9.000000</td>\n",
              "    </tr>\n",
              "  </tbody>\n",
              "</table>\n",
              "</div>"
            ],
            "text/plain": [
              "       account_length    area_code  number_vmail_messages  total_day_minutes  \\\n",
              "count      5000.00000  5000.000000            5000.000000        5000.000000   \n",
              "mean        100.25860   436.911400               7.755200         180.288900   \n",
              "std          39.69456    42.209182              13.546393          53.894699   \n",
              "min           1.00000   408.000000               0.000000           0.000000   \n",
              "25%          73.00000   408.000000               0.000000         143.700000   \n",
              "50%         100.00000   415.000000               0.000000         180.100000   \n",
              "75%         127.00000   415.000000              17.000000         216.200000   \n",
              "max         243.00000   510.000000              52.000000         351.500000   \n",
              "\n",
              "       total_day_calls  total_day_charge  total_eve_minutes  total_eve_calls  \\\n",
              "count      5000.000000       5000.000000        5000.000000      5000.000000   \n",
              "mean        100.029400         30.649668         200.636560       100.191000   \n",
              "std          19.831197          9.162069          50.551309        19.826496   \n",
              "min           0.000000          0.000000           0.000000         0.000000   \n",
              "25%          87.000000         24.430000         166.375000        87.000000   \n",
              "50%         100.000000         30.620000         201.000000       100.000000   \n",
              "75%         113.000000         36.750000         234.100000       114.000000   \n",
              "max         165.000000         59.760000         363.700000       170.000000   \n",
              "\n",
              "       total_eve_charge  total_night_minutes  total_night_calls  \\\n",
              "count       5000.000000          5000.000000        5000.000000   \n",
              "mean          17.054322           200.391620          99.919200   \n",
              "std            4.296843            50.527789          19.958686   \n",
              "min            0.000000             0.000000           0.000000   \n",
              "25%           14.140000           166.900000          87.000000   \n",
              "50%           17.090000           200.400000         100.000000   \n",
              "75%           19.900000           234.700000         113.000000   \n",
              "max           30.910000           395.000000         175.000000   \n",
              "\n",
              "       total_night_charge  total_intl_minutes  total_intl_calls  \\\n",
              "count         5000.000000         5000.000000       5000.000000   \n",
              "mean             9.017732           10.261780          4.435200   \n",
              "std              2.273763            2.761396          2.456788   \n",
              "min              0.000000            0.000000          0.000000   \n",
              "25%              7.510000            8.500000          3.000000   \n",
              "50%              9.020000           10.300000          4.000000   \n",
              "75%             10.560000           12.000000          6.000000   \n",
              "max             17.770000           20.000000         20.000000   \n",
              "\n",
              "       total_intl_charge  number_customer_service_calls  \n",
              "count        5000.000000                    5000.000000  \n",
              "mean            2.771196                       1.570400  \n",
              "std             0.745514                       1.306363  \n",
              "min             0.000000                       0.000000  \n",
              "25%             2.300000                       1.000000  \n",
              "50%             2.780000                       1.000000  \n",
              "75%             3.240000                       2.000000  \n",
              "max             5.400000                       9.000000  "
            ]
          },
          "metadata": {
            "tags": []
          },
          "execution_count": 5
        }
      ]
    },
    {
      "metadata": {
        "id": "PdUQD7TVyyGw",
        "colab_type": "code",
        "colab": {
          "base_uri": "https://localhost:8080/",
          "height": 34
        },
        "outputId": "e3081f88-7f21-4d12-a249-5cf03905b187"
      },
      "cell_type": "code",
      "source": [
        "print ('number of columns'+str(churn_df.shape[1]))"
      ],
      "execution_count": 6,
      "outputs": [
        {
          "output_type": "stream",
          "text": [
            "number of columns21\n"
          ],
          "name": "stdout"
        }
      ]
    },
    {
      "metadata": {
        "id": "FcwqWfAryyJP",
        "colab_type": "code",
        "colab": {}
      },
      "cell_type": "code",
      "source": [
        ""
      ],
      "execution_count": 0,
      "outputs": []
    },
    {
      "metadata": {
        "id": "SZO2V4WF0Idu",
        "colab_type": "text"
      },
      "cell_type": "markdown",
      "source": [
        "###part 1.2 data cleaning"
      ]
    },
    {
      "metadata": {
        "id": "Q_p3Vuhk0RAn",
        "colab_type": "text"
      },
      "cell_type": "markdown",
      "source": [
        "remove extra white space\n"
      ]
    },
    {
      "metadata": {
        "id": "qaXil2aKyyL3",
        "colab_type": "code",
        "colab": {
          "base_uri": "https://localhost:8080/",
          "height": 1071
        },
        "outputId": "3a3b2b7f-1dd4-46d9-8f0b-fa50d89a301a"
      },
      "cell_type": "code",
      "source": [
        "churn_df['voice_mail_plan'].map(lambda x: x.strip())\n",
        "churn_df['intl_plan'].map(lambda x: x.strip())\n",
        "churn_df['churned'].map(lambda x: x.strip())"
      ],
      "execution_count": 7,
      "outputs": [
        {
          "output_type": "execute_result",
          "data": {
            "text/plain": [
              "0       False.\n",
              "1       False.\n",
              "2       False.\n",
              "3       False.\n",
              "4       False.\n",
              "5       False.\n",
              "6       False.\n",
              "7       False.\n",
              "8       False.\n",
              "9       False.\n",
              "10       True.\n",
              "11      False.\n",
              "12      False.\n",
              "13      False.\n",
              "14      False.\n",
              "15       True.\n",
              "16      False.\n",
              "17      False.\n",
              "18      False.\n",
              "19      False.\n",
              "20      False.\n",
              "21       True.\n",
              "22      False.\n",
              "23      False.\n",
              "24      False.\n",
              "25      False.\n",
              "26      False.\n",
              "27      False.\n",
              "28      False.\n",
              "29      False.\n",
              "         ...  \n",
              "4970    False.\n",
              "4971    False.\n",
              "4972    False.\n",
              "4973    False.\n",
              "4974    False.\n",
              "4975    False.\n",
              "4976    False.\n",
              "4977    False.\n",
              "4978    False.\n",
              "4979    False.\n",
              "4980     True.\n",
              "4981    False.\n",
              "4982    False.\n",
              "4983    False.\n",
              "4984    False.\n",
              "4985    False.\n",
              "4986    False.\n",
              "4987    False.\n",
              "4988    False.\n",
              "4989    False.\n",
              "4990     True.\n",
              "4991     True.\n",
              "4992    False.\n",
              "4993    False.\n",
              "4994    False.\n",
              "4995    False.\n",
              "4996     True.\n",
              "4997    False.\n",
              "4998    False.\n",
              "4999    False.\n",
              "Name: churned, Length: 5000, dtype: object"
            ]
          },
          "metadata": {
            "tags": []
          },
          "execution_count": 7
        }
      ]
    },
    {
      "metadata": {
        "id": "cMzZDzmO1Mep",
        "colab_type": "text"
      },
      "cell_type": "markdown",
      "source": [
        "###1.3 Understand Features"
      ]
    },
    {
      "metadata": {
        "id": "RHyH7et4yyOg",
        "colab_type": "code",
        "colab": {
          "base_uri": "https://localhost:8080/",
          "height": 297
        },
        "outputId": "d272f718-ca60-4c60-e78e-0dabce0eac91"
      },
      "cell_type": "code",
      "source": [
        "% matplotlib inline\n",
        "import matplotlib.pyplot as plt\n",
        "import seaborn as sb\n",
        "\n",
        "sb.distplot(churn_df['total_intl_charge'], kde=False)"
      ],
      "execution_count": 8,
      "outputs": [
        {
          "output_type": "execute_result",
          "data": {
            "text/plain": [
              "<matplotlib.axes._subplots.AxesSubplot at 0x7f5856668358>"
            ]
          },
          "metadata": {
            "tags": []
          },
          "execution_count": 8
        },
        {
          "output_type": "display_data",
          "data": {
            "image/png": "[encoded data removed]",
            "text/plain": [
              "<Figure size 432x288 with 1 Axes>"
            ]
          },
          "metadata": {
            "tags": []
          }
        }
      ]
    },
    {
      "metadata": {
        "id": "nySOK6WZ2aR-",
        "colab_type": "code",
        "colab": {
          "base_uri": "https://localhost:8080/",
          "height": 386
        },
        "outputId": "8360a6f9-320c-4f73-e32b-25616c6ac990"
      },
      "cell_type": "code",
      "source": [
        "corr = churn_df[[\"account_length\", \"number_vmail_messages\", \"total_day_minutes\",\n",
        "                    \"total_day_calls\", \"total_day_charge\", \"total_eve_minutes\",\n",
        "                    \"total_eve_calls\", \"total_eve_charge\", \"total_night_minutes\",\n",
        "                    \"total_night_calls\", \"total_intl_minutes\", \"total_intl_calls\",\n",
        "                    \"total_intl_charge\"]].corr()\n",
        "sb.heatmap(corr)"
      ],
      "execution_count": 9,
      "outputs": [
        {
          "output_type": "execute_result",
          "data": {
            "text/plain": [
              "<matplotlib.axes._subplots.AxesSubplot at 0x7f585453cdd8>"
            ]
          },
          "metadata": {
            "tags": []
          },
          "execution_count": 9
        },
        {
          "output_type": "display_data",
          "data": {
            "image/png": "[encoded data removed]",
            "text/plain": [
              "<Figure size 432x288 with 2 Axes>"
            ]
          },
          "metadata": {
            "tags": []
          }
        }
      ]
    },
    {
      "metadata": {
        "id": "AP4a3B5-2jts",
        "colab_type": "code",
        "colab": {
          "base_uri": "https://localhost:8080/",
          "height": 472
        },
        "outputId": "abd1ef11-3f71-4cf0-abcd-19aba774e3e5"
      },
      "cell_type": "code",
      "source": [
        "corr"
      ],
      "execution_count": 10,
      "outputs": [
        {
          "output_type": "execute_result",
          "data": {
            "text/html": [
              "<div>\n",
              "<style scoped>\n",
              "    .dataframe tbody tr th:only-of-type {\n",
              "        vertical-align: middle;\n",
              "    }\n",
              "\n",
              "    .dataframe tbody tr th {\n",
              "        vertical-align: top;\n",
              "    }\n",
              "\n",
              "    .dataframe thead th {\n",
              "        text-align: right;\n",
              "    }\n",
              "</style>\n",
              "<table border=\"1\" class=\"dataframe\">\n",
              "  <thead>\n",
              "    <tr style=\"text-align: right;\">\n",
              "      <th></th>\n",
              "      <th>account_length</th>\n",
              "      <th>number_vmail_messages</th>\n",
              "      <th>total_day_minutes</th>\n",
              "      <th>total_day_calls</th>\n",
              "      <th>total_day_charge</th>\n",
              "      <th>total_eve_minutes</th>\n",
              "      <th>total_eve_calls</th>\n",
              "      <th>total_eve_charge</th>\n",
              "      <th>total_night_minutes</th>\n",
              "      <th>total_night_calls</th>\n",
              "      <th>total_intl_minutes</th>\n",
              "      <th>total_intl_calls</th>\n",
              "      <th>total_intl_charge</th>\n",
              "    </tr>\n",
              "  </thead>\n",
              "  <tbody>\n",
              "    <tr>\n",
              "      <th>account_length</th>\n",
              "      <td>1.000000</td>\n",
              "      <td>-0.014575</td>\n",
              "      <td>-0.001017</td>\n",
              "      <td>0.028240</td>\n",
              "      <td>-0.001019</td>\n",
              "      <td>-0.009591</td>\n",
              "      <td>0.009143</td>\n",
              "      <td>-0.009587</td>\n",
              "      <td>0.000668</td>\n",
              "      <td>-0.007825</td>\n",
              "      <td>0.001291</td>\n",
              "      <td>0.014277</td>\n",
              "      <td>0.001292</td>\n",
              "    </tr>\n",
              "    <tr>\n",
              "      <th>number_vmail_messages</th>\n",
              "      <td>-0.014575</td>\n",
              "      <td>1.000000</td>\n",
              "      <td>0.005381</td>\n",
              "      <td>0.000883</td>\n",
              "      <td>0.005377</td>\n",
              "      <td>0.019490</td>\n",
              "      <td>-0.003954</td>\n",
              "      <td>0.019496</td>\n",
              "      <td>0.005541</td>\n",
              "      <td>0.002676</td>\n",
              "      <td>0.002463</td>\n",
              "      <td>0.000124</td>\n",
              "      <td>0.002505</td>\n",
              "    </tr>\n",
              "    <tr>\n",
              "      <th>total_day_minutes</th>\n",
              "      <td>-0.001017</td>\n",
              "      <td>0.005381</td>\n",
              "      <td>1.000000</td>\n",
              "      <td>0.001935</td>\n",
              "      <td>1.000000</td>\n",
              "      <td>-0.010750</td>\n",
              "      <td>0.008128</td>\n",
              "      <td>-0.010760</td>\n",
              "      <td>0.011799</td>\n",
              "      <td>0.004236</td>\n",
              "      <td>-0.019486</td>\n",
              "      <td>-0.001303</td>\n",
              "      <td>-0.019415</td>\n",
              "    </tr>\n",
              "    <tr>\n",
              "      <th>total_day_calls</th>\n",
              "      <td>0.028240</td>\n",
              "      <td>0.000883</td>\n",
              "      <td>0.001935</td>\n",
              "      <td>1.000000</td>\n",
              "      <td>0.001936</td>\n",
              "      <td>-0.000699</td>\n",
              "      <td>0.003754</td>\n",
              "      <td>-0.000695</td>\n",
              "      <td>0.002804</td>\n",
              "      <td>-0.008308</td>\n",
              "      <td>0.013097</td>\n",
              "      <td>0.010893</td>\n",
              "      <td>0.013161</td>\n",
              "    </tr>\n",
              "    <tr>\n",
              "      <th>total_day_charge</th>\n",
              "      <td>-0.001019</td>\n",
              "      <td>0.005377</td>\n",
              "      <td>1.000000</td>\n",
              "      <td>0.001936</td>\n",
              "      <td>1.000000</td>\n",
              "      <td>-0.010747</td>\n",
              "      <td>0.008129</td>\n",
              "      <td>-0.010757</td>\n",
              "      <td>0.011801</td>\n",
              "      <td>0.004235</td>\n",
              "      <td>-0.019490</td>\n",
              "      <td>-0.001307</td>\n",
              "      <td>-0.019419</td>\n",
              "    </tr>\n",
              "    <tr>\n",
              "      <th>total_eve_minutes</th>\n",
              "      <td>-0.009591</td>\n",
              "      <td>0.019490</td>\n",
              "      <td>-0.010750</td>\n",
              "      <td>-0.000699</td>\n",
              "      <td>-0.010747</td>\n",
              "      <td>1.000000</td>\n",
              "      <td>0.002763</td>\n",
              "      <td>1.000000</td>\n",
              "      <td>-0.016639</td>\n",
              "      <td>0.013420</td>\n",
              "      <td>0.000137</td>\n",
              "      <td>0.008388</td>\n",
              "      <td>0.000159</td>\n",
              "    </tr>\n",
              "    <tr>\n",
              "      <th>total_eve_calls</th>\n",
              "      <td>0.009143</td>\n",
              "      <td>-0.003954</td>\n",
              "      <td>0.008128</td>\n",
              "      <td>0.003754</td>\n",
              "      <td>0.008129</td>\n",
              "      <td>0.002763</td>\n",
              "      <td>1.000000</td>\n",
              "      <td>0.002778</td>\n",
              "      <td>0.001781</td>\n",
              "      <td>-0.013682</td>\n",
              "      <td>-0.007458</td>\n",
              "      <td>0.005574</td>\n",
              "      <td>-0.007507</td>\n",
              "    </tr>\n",
              "    <tr>\n",
              "      <th>total_eve_charge</th>\n",
              "      <td>-0.009587</td>\n",
              "      <td>0.019496</td>\n",
              "      <td>-0.010760</td>\n",
              "      <td>-0.000695</td>\n",
              "      <td>-0.010757</td>\n",
              "      <td>1.000000</td>\n",
              "      <td>0.002778</td>\n",
              "      <td>1.000000</td>\n",
              "      <td>-0.016649</td>\n",
              "      <td>0.013422</td>\n",
              "      <td>0.000132</td>\n",
              "      <td>0.008393</td>\n",
              "      <td>0.000155</td>\n",
              "    </tr>\n",
              "    <tr>\n",
              "      <th>total_night_minutes</th>\n",
              "      <td>0.000668</td>\n",
              "      <td>0.005541</td>\n",
              "      <td>0.011799</td>\n",
              "      <td>0.002804</td>\n",
              "      <td>0.011801</td>\n",
              "      <td>-0.016639</td>\n",
              "      <td>0.001781</td>\n",
              "      <td>-0.016649</td>\n",
              "      <td>1.000000</td>\n",
              "      <td>0.026972</td>\n",
              "      <td>-0.006721</td>\n",
              "      <td>-0.017214</td>\n",
              "      <td>-0.006655</td>\n",
              "    </tr>\n",
              "    <tr>\n",
              "      <th>total_night_calls</th>\n",
              "      <td>-0.007825</td>\n",
              "      <td>0.002676</td>\n",
              "      <td>0.004236</td>\n",
              "      <td>-0.008308</td>\n",
              "      <td>0.004235</td>\n",
              "      <td>0.013420</td>\n",
              "      <td>-0.013682</td>\n",
              "      <td>0.013422</td>\n",
              "      <td>0.026972</td>\n",
              "      <td>1.000000</td>\n",
              "      <td>0.000391</td>\n",
              "      <td>-0.000156</td>\n",
              "      <td>0.000368</td>\n",
              "    </tr>\n",
              "    <tr>\n",
              "      <th>total_intl_minutes</th>\n",
              "      <td>0.001291</td>\n",
              "      <td>0.002463</td>\n",
              "      <td>-0.019486</td>\n",
              "      <td>0.013097</td>\n",
              "      <td>-0.019490</td>\n",
              "      <td>0.000137</td>\n",
              "      <td>-0.007458</td>\n",
              "      <td>0.000132</td>\n",
              "      <td>-0.006721</td>\n",
              "      <td>0.000391</td>\n",
              "      <td>1.000000</td>\n",
              "      <td>0.016791</td>\n",
              "      <td>0.999993</td>\n",
              "    </tr>\n",
              "    <tr>\n",
              "      <th>total_intl_calls</th>\n",
              "      <td>0.014277</td>\n",
              "      <td>0.000124</td>\n",
              "      <td>-0.001303</td>\n",
              "      <td>0.010893</td>\n",
              "      <td>-0.001307</td>\n",
              "      <td>0.008388</td>\n",
              "      <td>0.005574</td>\n",
              "      <td>0.008393</td>\n",
              "      <td>-0.017214</td>\n",
              "      <td>-0.000156</td>\n",
              "      <td>0.016791</td>\n",
              "      <td>1.000000</td>\n",
              "      <td>0.016900</td>\n",
              "    </tr>\n",
              "    <tr>\n",
              "      <th>total_intl_charge</th>\n",
              "      <td>0.001292</td>\n",
              "      <td>0.002505</td>\n",
              "      <td>-0.019415</td>\n",
              "      <td>0.013161</td>\n",
              "      <td>-0.019419</td>\n",
              "      <td>0.000159</td>\n",
              "      <td>-0.007507</td>\n",
              "      <td>0.000155</td>\n",
              "      <td>-0.006655</td>\n",
              "      <td>0.000368</td>\n",
              "      <td>0.999993</td>\n",
              "      <td>0.016900</td>\n",
              "      <td>1.000000</td>\n",
              "    </tr>\n",
              "  </tbody>\n",
              "</table>\n",
              "</div>"
            ],
            "text/plain": [
              "                       account_length  number_vmail_messages  \\\n",
              "account_length               1.000000              -0.014575   \n",
              "number_vmail_messages       -0.014575               1.000000   \n",
              "total_day_minutes           -0.001017               0.005381   \n",
              "total_day_calls              0.028240               0.000883   \n",
              "total_day_charge            -0.001019               0.005377   \n",
              "total_eve_minutes           -0.009591               0.019490   \n",
              "total_eve_calls              0.009143              -0.003954   \n",
              "total_eve_charge            -0.009587               0.019496   \n",
              "total_night_minutes          0.000668               0.005541   \n",
              "total_night_calls           -0.007825               0.002676   \n",
              "total_intl_minutes           0.001291               0.002463   \n",
              "total_intl_calls             0.014277               0.000124   \n",
              "total_intl_charge            0.001292               0.002505   \n",
              "\n",
              "                       total_day_minutes  total_day_calls  total_day_charge  \\\n",
              "account_length                 -0.001017         0.028240         -0.001019   \n",
              "number_vmail_messages           0.005381         0.000883          0.005377   \n",
              "total_day_minutes               1.000000         0.001935          1.000000   \n",
              "total_day_calls                 0.001935         1.000000          0.001936   \n",
              "total_day_charge                1.000000         0.001936          1.000000   \n",
              "total_eve_minutes              -0.010750        -0.000699         -0.010747   \n",
              "total_eve_calls                 0.008128         0.003754          0.008129   \n",
              "total_eve_charge               -0.010760        -0.000695         -0.010757   \n",
              "total_night_minutes             0.011799         0.002804          0.011801   \n",
              "total_night_calls               0.004236        -0.008308          0.004235   \n",
              "total_intl_minutes             -0.019486         0.013097         -0.019490   \n",
              "total_intl_calls               -0.001303         0.010893         -0.001307   \n",
              "total_intl_charge              -0.019415         0.013161         -0.019419   \n",
              "\n",
              "                       total_eve_minutes  total_eve_calls  total_eve_charge  \\\n",
              "account_length                 -0.009591         0.009143         -0.009587   \n",
              "number_vmail_messages           0.019490        -0.003954          0.019496   \n",
              "total_day_minutes              -0.010750         0.008128         -0.010760   \n",
              "total_day_calls                -0.000699         0.003754         -0.000695   \n",
              "total_day_charge               -0.010747         0.008129         -0.010757   \n",
              "total_eve_minutes               1.000000         0.002763          1.000000   \n",
              "total_eve_calls                 0.002763         1.000000          0.002778   \n",
              "total_eve_charge                1.000000         0.002778          1.000000   \n",
              "total_night_minutes            -0.016639         0.001781         -0.016649   \n",
              "total_night_calls               0.013420        -0.013682          0.013422   \n",
              "total_intl_minutes              0.000137        -0.007458          0.000132   \n",
              "total_intl_calls                0.008388         0.005574          0.008393   \n",
              "total_intl_charge               0.000159        -0.007507          0.000155   \n",
              "\n",
              "                       total_night_minutes  total_night_calls  \\\n",
              "account_length                    0.000668          -0.007825   \n",
              "number_vmail_messages             0.005541           0.002676   \n",
              "total_day_minutes                 0.011799           0.004236   \n",
              "total_day_calls                   0.002804          -0.008308   \n",
              "total_day_charge                  0.011801           0.004235   \n",
              "total_eve_minutes                -0.016639           0.013420   \n",
              "total_eve_calls                   0.001781          -0.013682   \n",
              "total_eve_charge                 -0.016649           0.013422   \n",
              "total_night_minutes               1.000000           0.026972   \n",
              "total_night_calls                 0.026972           1.000000   \n",
              "total_intl_minutes               -0.006721           0.000391   \n",
              "total_intl_calls                 -0.017214          -0.000156   \n",
              "total_intl_charge                -0.006655           0.000368   \n",
              "\n",
              "                       total_intl_minutes  total_intl_calls  total_intl_charge  \n",
              "account_length                   0.001291          0.014277           0.001292  \n",
              "number_vmail_messages            0.002463          0.000124           0.002505  \n",
              "total_day_minutes               -0.019486         -0.001303          -0.019415  \n",
              "total_day_calls                  0.013097          0.010893           0.013161  \n",
              "total_day_charge                -0.019490         -0.001307          -0.019419  \n",
              "total_eve_minutes                0.000137          0.008388           0.000159  \n",
              "total_eve_calls                 -0.007458          0.005574          -0.007507  \n",
              "total_eve_charge                 0.000132          0.008393           0.000155  \n",
              "total_night_minutes             -0.006721         -0.017214          -0.006655  \n",
              "total_night_calls                0.000391         -0.000156           0.000368  \n",
              "total_intl_minutes               1.000000          0.016791           0.999993  \n",
              "total_intl_calls                 0.016791          1.000000           0.016900  \n",
              "total_intl_charge                0.999993          0.016900           1.000000  "
            ]
          },
          "metadata": {
            "tags": []
          },
          "execution_count": 10
        }
      ]
    },
    {
      "metadata": {
        "id": "eCD8cScE2jwl",
        "colab_type": "code",
        "colab": {
          "base_uri": "https://localhost:8080/",
          "height": 34
        },
        "outputId": "5be6b37e-95e3-4036-fc33-9d27092f7f0c"
      },
      "cell_type": "code",
      "source": [
        "from scipy.stats import pearsonr\n",
        "print (pearsonr(churn_df['total_day_minutes'], churn_df['number_vmail_messages']))"
      ],
      "execution_count": 11,
      "outputs": [
        {
          "output_type": "stream",
          "text": [
            "(0.005381375960654535, 0.7036274686418728)\n"
          ],
          "name": "stdout"
        }
      ]
    },
    {
      "metadata": {
        "id": "E0ccwDMa4EfP",
        "colab_type": "text"
      },
      "cell_type": "markdown",
      "source": [
        "##Part 2 Feature Processing\n"
      ]
    },
    {
      "metadata": {
        "id": "OOos6JWp2jza",
        "colab_type": "code",
        "colab": {
          "base_uri": "https://localhost:8080/",
          "height": 34
        },
        "outputId": "57e3d8fa-b806-4e45-e780-5fe41c8956bf"
      },
      "cell_type": "code",
      "source": [
        "churn_df['churned'][9]"
      ],
      "execution_count": 12,
      "outputs": [
        {
          "output_type": "execute_result",
          "data": {
            "text/plain": [
              "' False.'"
            ]
          },
          "metadata": {
            "tags": []
          },
          "execution_count": 12
        }
      ]
    },
    {
      "metadata": {
        "id": "60SnrhA34L_m",
        "colab_type": "code",
        "colab": {
          "base_uri": "https://localhost:8080/",
          "height": 51
        },
        "outputId": "7061f049-cae6-4583-c410-a5357cdb21d5"
      },
      "cell_type": "code",
      "source": [
        "churn_df['churned'].map(lambda x:x.strip())\n",
        "y=np.where(churn_df['churned']==' True.',1,0)\n",
        "y[:40]"
      ],
      "execution_count": 13,
      "outputs": [
        {
          "output_type": "execute_result",
          "data": {
            "text/plain": [
              "array([0, 0, 0, 0, 0, 0, 0, 0, 0, 0, 1, 0, 0, 0, 0, 1, 0, 0, 0, 0, 0, 1,\n",
              "       0, 0, 0, 0, 0, 0, 0, 0, 0, 0, 0, 1, 0, 0, 0, 0, 0, 0])"
            ]
          },
          "metadata": {
            "tags": []
          },
          "execution_count": 13
        }
      ]
    },
    {
      "metadata": {
        "id": "M9wnCBWS4MCK",
        "colab_type": "code",
        "colab": {}
      },
      "cell_type": "code",
      "source": [
        "to_drop=['state','area_code','phone_number','churned'] #why?\n",
        "df2=churn_df.drop(to_drop,axis=1)\n",
        "yes_no_cols=['intl_plan','voice_mail_plan']\n",
        "df2[yes_no_cols]=df2[yes_no_cols]==' yes'\n",
        "\n",
        "x=df2\n"
      ],
      "execution_count": 0,
      "outputs": []
    },
    {
      "metadata": {
        "id": "_6C1DMsV4ME-",
        "colab_type": "code",
        "colab": {
          "base_uri": "https://localhost:8080/",
          "height": 224
        },
        "outputId": "0ad840d5-7c3c-44dc-9181-d85d35cf2f58"
      },
      "cell_type": "code",
      "source": [
        "df2.head()"
      ],
      "execution_count": 15,
      "outputs": [
        {
          "output_type": "execute_result",
          "data": {
            "text/html": [
              "<div>\n",
              "<style scoped>\n",
              "    .dataframe tbody tr th:only-of-type {\n",
              "        vertical-align: middle;\n",
              "    }\n",
              "\n",
              "    .dataframe tbody tr th {\n",
              "        vertical-align: top;\n",
              "    }\n",
              "\n",
              "    .dataframe thead th {\n",
              "        text-align: right;\n",
              "    }\n",
              "</style>\n",
              "<table border=\"1\" class=\"dataframe\">\n",
              "  <thead>\n",
              "    <tr style=\"text-align: right;\">\n",
              "      <th></th>\n",
              "      <th>account_length</th>\n",
              "      <th>intl_plan</th>\n",
              "      <th>voice_mail_plan</th>\n",
              "      <th>number_vmail_messages</th>\n",
              "      <th>total_day_minutes</th>\n",
              "      <th>total_day_calls</th>\n",
              "      <th>total_day_charge</th>\n",
              "      <th>total_eve_minutes</th>\n",
              "      <th>total_eve_calls</th>\n",
              "      <th>total_eve_charge</th>\n",
              "      <th>total_night_minutes</th>\n",
              "      <th>total_night_calls</th>\n",
              "      <th>total_night_charge</th>\n",
              "      <th>total_intl_minutes</th>\n",
              "      <th>total_intl_calls</th>\n",
              "      <th>total_intl_charge</th>\n",
              "      <th>number_customer_service_calls</th>\n",
              "    </tr>\n",
              "  </thead>\n",
              "  <tbody>\n",
              "    <tr>\n",
              "      <th>0</th>\n",
              "      <td>128</td>\n",
              "      <td>False</td>\n",
              "      <td>True</td>\n",
              "      <td>25</td>\n",
              "      <td>265.1</td>\n",
              "      <td>110</td>\n",
              "      <td>45.07</td>\n",
              "      <td>197.4</td>\n",
              "      <td>99</td>\n",
              "      <td>16.78</td>\n",
              "      <td>244.7</td>\n",
              "      <td>91</td>\n",
              "      <td>11.01</td>\n",
              "      <td>10.0</td>\n",
              "      <td>3</td>\n",
              "      <td>2.70</td>\n",
              "      <td>1</td>\n",
              "    </tr>\n",
              "    <tr>\n",
              "      <th>1</th>\n",
              "      <td>107</td>\n",
              "      <td>False</td>\n",
              "      <td>True</td>\n",
              "      <td>26</td>\n",
              "      <td>161.6</td>\n",
              "      <td>123</td>\n",
              "      <td>27.47</td>\n",
              "      <td>195.5</td>\n",
              "      <td>103</td>\n",
              "      <td>16.62</td>\n",
              "      <td>254.4</td>\n",
              "      <td>103</td>\n",
              "      <td>11.45</td>\n",
              "      <td>13.7</td>\n",
              "      <td>3</td>\n",
              "      <td>3.70</td>\n",
              "      <td>1</td>\n",
              "    </tr>\n",
              "    <tr>\n",
              "      <th>2</th>\n",
              "      <td>137</td>\n",
              "      <td>False</td>\n",
              "      <td>False</td>\n",
              "      <td>0</td>\n",
              "      <td>243.4</td>\n",
              "      <td>114</td>\n",
              "      <td>41.38</td>\n",
              "      <td>121.2</td>\n",
              "      <td>110</td>\n",
              "      <td>10.30</td>\n",
              "      <td>162.6</td>\n",
              "      <td>104</td>\n",
              "      <td>7.32</td>\n",
              "      <td>12.2</td>\n",
              "      <td>5</td>\n",
              "      <td>3.29</td>\n",
              "      <td>0</td>\n",
              "    </tr>\n",
              "    <tr>\n",
              "      <th>3</th>\n",
              "      <td>84</td>\n",
              "      <td>True</td>\n",
              "      <td>False</td>\n",
              "      <td>0</td>\n",
              "      <td>299.4</td>\n",
              "      <td>71</td>\n",
              "      <td>50.90</td>\n",
              "      <td>61.9</td>\n",
              "      <td>88</td>\n",
              "      <td>5.26</td>\n",
              "      <td>196.9</td>\n",
              "      <td>89</td>\n",
              "      <td>8.86</td>\n",
              "      <td>6.6</td>\n",
              "      <td>7</td>\n",
              "      <td>1.78</td>\n",
              "      <td>2</td>\n",
              "    </tr>\n",
              "    <tr>\n",
              "      <th>4</th>\n",
              "      <td>75</td>\n",
              "      <td>True</td>\n",
              "      <td>False</td>\n",
              "      <td>0</td>\n",
              "      <td>166.7</td>\n",
              "      <td>113</td>\n",
              "      <td>28.34</td>\n",
              "      <td>148.3</td>\n",
              "      <td>122</td>\n",
              "      <td>12.61</td>\n",
              "      <td>186.9</td>\n",
              "      <td>121</td>\n",
              "      <td>8.41</td>\n",
              "      <td>10.1</td>\n",
              "      <td>3</td>\n",
              "      <td>2.73</td>\n",
              "      <td>3</td>\n",
              "    </tr>\n",
              "  </tbody>\n",
              "</table>\n",
              "</div>"
            ],
            "text/plain": [
              "   account_length  intl_plan  voice_mail_plan  number_vmail_messages  \\\n",
              "0             128      False             True                     25   \n",
              "1             107      False             True                     26   \n",
              "2             137      False            False                      0   \n",
              "3              84       True            False                      0   \n",
              "4              75       True            False                      0   \n",
              "\n",
              "   total_day_minutes  total_day_calls  total_day_charge  total_eve_minutes  \\\n",
              "0              265.1              110             45.07              197.4   \n",
              "1              161.6              123             27.47              195.5   \n",
              "2              243.4              114             41.38              121.2   \n",
              "3              299.4               71             50.90               61.9   \n",
              "4              166.7              113             28.34              148.3   \n",
              "\n",
              "   total_eve_calls  total_eve_charge  total_night_minutes  total_night_calls  \\\n",
              "0               99             16.78                244.7                 91   \n",
              "1              103             16.62                254.4                103   \n",
              "2              110             10.30                162.6                104   \n",
              "3               88              5.26                196.9                 89   \n",
              "4              122             12.61                186.9                121   \n",
              "\n",
              "   total_night_charge  total_intl_minutes  total_intl_calls  \\\n",
              "0               11.01                10.0                 3   \n",
              "1               11.45                13.7                 3   \n",
              "2                7.32                12.2                 5   \n",
              "3                8.86                 6.6                 7   \n",
              "4                8.41                10.1                 3   \n",
              "\n",
              "   total_intl_charge  number_customer_service_calls  \n",
              "0               2.70                              1  \n",
              "1               3.70                              1  \n",
              "2               3.29                              0  \n",
              "3               1.78                              2  \n",
              "4               2.73                              3  "
            ]
          },
          "metadata": {
            "tags": []
          },
          "execution_count": 15
        }
      ]
    },
    {
      "metadata": {
        "id": "svLF0yo44MIJ",
        "colab_type": "code",
        "colab": {}
      },
      "cell_type": "code",
      "source": [
        "#scale the data\n",
        "\n",
        "from sklearn.preprocessing import StandardScaler\n",
        "scaler = StandardScaler()\n",
        "x=scaler.fit_transform(x)\n",
        "\n"
      ],
      "execution_count": 0,
      "outputs": []
    },
    {
      "metadata": {
        "id": "j7rFisT_8466",
        "colab_type": "text"
      },
      "cell_type": "markdown",
      "source": [
        "##3.Model Traning and Result Evaluation\n"
      ]
    },
    {
      "metadata": {
        "id": "qgQhlDWO89lo",
        "colab_type": "code",
        "colab": {
          "base_uri": "https://localhost:8080/",
          "height": 51
        },
        "outputId": "308238dc-03fa-4137-9bec-d150a97088da"
      },
      "cell_type": "code",
      "source": [
        "from sklearn import model_selection\n",
        "x_train,x_test,y_train,y_test=model_selection.train_test_split(x,y,test_size=0.2)\n",
        "print ('train data has %d obervations with %d features'%x_train.shape)\n",
        "print ('test data has %d obervations with %d features'%x_test.shape)"
      ],
      "execution_count": 17,
      "outputs": [
        {
          "output_type": "stream",
          "text": [
            "train data has 4000 obervations with 17 features\n",
            "test data has 1000 obervations with 17 features\n"
          ],
          "name": "stdout"
        }
      ]
    },
    {
      "metadata": {
        "id": "D6WkQn0LAxCV",
        "colab_type": "text"
      },
      "cell_type": "markdown",
      "source": [
        "###Model training and selection"
      ]
    },
    {
      "metadata": {
        "id": "eMqABEjd89oM",
        "colab_type": "code",
        "colab": {}
      },
      "cell_type": "code",
      "source": [
        "from sklearn.ensemble import RandomForestClassifier\n",
        "from sklearn.neighbors import KNeighborsClassifier\n",
        "from sklearn.linear_model import LogisticRegression\n",
        "\n",
        "classifier_logistic=LogisticRegression()\n",
        "classifier_KNN=KNeighborsClassifier()\n",
        "classifier_RF=RandomForestClassifier()\n"
      ],
      "execution_count": 0,
      "outputs": []
    },
    {
      "metadata": {
        "id": "QRIIvCLY89ql",
        "colab_type": "code",
        "colab": {
          "base_uri": "https://localhost:8080/",
          "height": 68
        },
        "outputId": "523df7de-0459-419c-d29e-7dac7aeb4098"
      },
      "cell_type": "code",
      "source": [
        "model_names=['Rf','LogisticR','KNN']\n",
        "model_list=[classifier_RF,classifier_logistic,classifier_KNN]\n",
        "count = 0\n",
        "for classifier in model_list:\n",
        "  cv_score=model_selection.cross_val_score(classifier,x_train,y_train,cv=5)\n",
        "  print ('model accuarcy of %s is: %.3f'%(model_names[count],cv_score.mean()))  #????\n",
        "  count+=1"
      ],
      "execution_count": 19,
      "outputs": [
        {
          "output_type": "stream",
          "text": [
            "model accuarcy of Rf is: 0.946\n",
            "model accuarcy of LogisticR is: 0.866\n",
            "model accuarcy of KNN is: 0.900\n"
          ],
          "name": "stdout"
        }
      ]
    },
    {
      "metadata": {
        "id": "fu6cSi0zDsar",
        "colab_type": "text"
      },
      "cell_type": "markdown",
      "source": [
        "##Use Grid Search to find Optimal Hyperparameters"
      ]
    },
    {
      "metadata": {
        "id": "wXdRzkSv89tE",
        "colab_type": "code",
        "colab": {}
      },
      "cell_type": "code",
      "source": [
        "from sklearn.model_selection import GridSearchCV\n",
        "def print_grid_search_metrics(gs):\n",
        "    print (\"Best score: %0.3f\" % gs.best_score_)\n",
        "    print (\"Best parameters set:\")\n",
        "    best_parameters = gs.best_params_\n",
        "    for param_name in sorted(parameters.keys()):\n",
        "        print(\"\\t%s: %r\" % (param_name, best_parameters[param_name]))"
      ],
      "execution_count": 0,
      "outputs": []
    },
    {
      "metadata": {
        "id": "eWRBGmbme8r-",
        "colab_type": "text"
      },
      "cell_type": "markdown",
      "source": [
        "###paet 3.3.1:Find Optimal Hyperparameters - Logistic Regression"
      ]
    },
    {
      "metadata": {
        "id": "zdHhi8CE89vv",
        "colab_type": "code",
        "colab": {
          "base_uri": "https://localhost:8080/",
          "height": 170
        },
        "outputId": "92670d44-39c0-4a7b-b501-4d308bf7f4ef"
      },
      "cell_type": "code",
      "source": [
        "parameters = {\n",
        "    'penalty':('l1', 'l2'), \n",
        "    'C':(1, 5, 10)\n",
        "}\n",
        "Grid_LR = GridSearchCV(LogisticRegression(),parameters, cv=5)\n",
        "Grid_LR.fit(x_train, y_train)"
      ],
      "execution_count": 21,
      "outputs": [
        {
          "output_type": "execute_result",
          "data": {
            "text/plain": [
              "GridSearchCV(cv=5, error_score='raise-deprecating',\n",
              "       estimator=LogisticRegression(C=1.0, class_weight=None, dual=False, fit_intercept=True,\n",
              "          intercept_scaling=1, max_iter=100, multi_class='warn',\n",
              "          n_jobs=None, penalty='l2', random_state=None, solver='warn',\n",
              "          tol=0.0001, verbose=0, warm_start=False),\n",
              "       fit_params=None, iid='warn', n_jobs=None,\n",
              "       param_grid={'penalty': ('l1', 'l2'), 'C': (1, 5, 10)},\n",
              "       pre_dispatch='2*n_jobs', refit=True, return_train_score='warn',\n",
              "       scoring=None, verbose=0)"
            ]
          },
          "metadata": {
            "tags": []
          },
          "execution_count": 21
        }
      ]
    },
    {
      "metadata": {
        "id": "s26nwmrV89yi",
        "colab_type": "code",
        "colab": {
          "base_uri": "https://localhost:8080/",
          "height": 85
        },
        "outputId": "afe36a17-88a6-4260-e821-67f6a477df66"
      },
      "cell_type": "code",
      "source": [
        "print_grid_search_metrics(Grid_LR)"
      ],
      "execution_count": 22,
      "outputs": [
        {
          "output_type": "stream",
          "text": [
            "Best score: 0.866\n",
            "Best parameters set:\n",
            "\tC: 5\n",
            "\tpenalty: 'l1'\n"
          ],
          "name": "stdout"
        }
      ]
    },
    {
      "metadata": {
        "id": "8drYqr1sgqPm",
        "colab_type": "code",
        "colab": {}
      },
      "cell_type": "code",
      "source": [
        "best_LR_model=Grid_LR.best_estimator_"
      ],
      "execution_count": 0,
      "outputs": []
    },
    {
      "metadata": {
        "id": "fASj2VEGg4Cm",
        "colab_type": "text"
      },
      "cell_type": "markdown",
      "source": [
        "###Part 3.3.2 Find Optimal Hyperparameters:KNN\n"
      ]
    },
    {
      "metadata": {
        "id": "Dnjkr0tLgqSO",
        "colab_type": "code",
        "colab": {
          "base_uri": "https://localhost:8080/",
          "height": 136
        },
        "outputId": "b4b32443-12d9-4f66-ba1d-836c32f1c30b"
      },
      "cell_type": "code",
      "source": [
        "parameters = {\n",
        "    'n_neighbors':[3,5,7,10] \n",
        "}\n",
        "Grid_KNN = GridSearchCV(KNeighborsClassifier(),parameters, cv=5)\n",
        "Grid_KNN.fit(x_train, y_train)"
      ],
      "execution_count": 24,
      "outputs": [
        {
          "output_type": "execute_result",
          "data": {
            "text/plain": [
              "GridSearchCV(cv=5, error_score='raise-deprecating',\n",
              "       estimator=KNeighborsClassifier(algorithm='auto', leaf_size=30, metric='minkowski',\n",
              "           metric_params=None, n_jobs=None, n_neighbors=5, p=2,\n",
              "           weights='uniform'),\n",
              "       fit_params=None, iid='warn', n_jobs=None,\n",
              "       param_grid={'n_neighbors': [3, 5, 7, 10]}, pre_dispatch='2*n_jobs',\n",
              "       refit=True, return_train_score='warn', scoring=None, verbose=0)"
            ]
          },
          "metadata": {
            "tags": []
          },
          "execution_count": 24
        }
      ]
    },
    {
      "metadata": {
        "id": "jFrFyh4kgqVB",
        "colab_type": "code",
        "colab": {
          "base_uri": "https://localhost:8080/",
          "height": 68
        },
        "outputId": "c9716d20-4f30-4824-8500-ecd202e92856"
      },
      "cell_type": "code",
      "source": [
        "print_grid_search_metrics(Grid_KNN)"
      ],
      "execution_count": 25,
      "outputs": [
        {
          "output_type": "stream",
          "text": [
            "Best score: 0.900\n",
            "Best parameters set:\n",
            "\tn_neighbors: 5\n"
          ],
          "name": "stdout"
        }
      ]
    },
    {
      "metadata": {
        "id": "lFVGfPTQhOoO",
        "colab_type": "text"
      },
      "cell_type": "markdown",
      "source": [
        "###part 3.3.3:Find Optimal Hyperparameters : Random Forest"
      ]
    },
    {
      "metadata": {
        "id": "fOgzPwSbgqXk",
        "colab_type": "code",
        "colab": {
          "base_uri": "https://localhost:8080/",
          "height": 221
        },
        "outputId": "9124e970-2806-4955-e967-9ee187327ac9"
      },
      "cell_type": "code",
      "source": [
        "parameters = {\n",
        "    'n_estimators' : [20,30,40,50,60,70,80,90]\n",
        "}\n",
        "Grid_RF = GridSearchCV(RandomForestClassifier(),parameters, cv=5)\n",
        "Grid_RF.fit(x_train, y_train)"
      ],
      "execution_count": 26,
      "outputs": [
        {
          "output_type": "execute_result",
          "data": {
            "text/plain": [
              "GridSearchCV(cv=5, error_score='raise-deprecating',\n",
              "       estimator=RandomForestClassifier(bootstrap=True, class_weight=None, criterion='gini',\n",
              "            max_depth=None, max_features='auto', max_leaf_nodes=None,\n",
              "            min_impurity_decrease=0.0, min_impurity_split=None,\n",
              "            min_samples_leaf=1, min_samples_split=2,\n",
              "            min_weight_fraction_leaf=0.0, n_estimators='warn', n_jobs=None,\n",
              "            oob_score=False, random_state=None, verbose=0,\n",
              "            warm_start=False),\n",
              "       fit_params=None, iid='warn', n_jobs=None,\n",
              "       param_grid={'n_estimators': [20, 30, 40, 50, 60, 70, 80, 90]},\n",
              "       pre_dispatch='2*n_jobs', refit=True, return_train_score='warn',\n",
              "       scoring=None, verbose=0)"
            ]
          },
          "metadata": {
            "tags": []
          },
          "execution_count": 26
        }
      ]
    },
    {
      "metadata": {
        "id": "4fins-QKgqa2",
        "colab_type": "code",
        "colab": {
          "base_uri": "https://localhost:8080/",
          "height": 68
        },
        "outputId": "0df404cc-16c5-4a29-9369-abfe40a9e952"
      },
      "cell_type": "code",
      "source": [
        "print_grid_search_metrics(Grid_RF)"
      ],
      "execution_count": 27,
      "outputs": [
        {
          "output_type": "stream",
          "text": [
            "Best score: 0.957\n",
            "Best parameters set:\n",
            "\tn_estimators: 70\n"
          ],
          "name": "stdout"
        }
      ]
    },
    {
      "metadata": {
        "id": "9BxabWQqhhRq",
        "colab_type": "code",
        "colab": {}
      },
      "cell_type": "code",
      "source": [
        "best_RF_model = Grid_RF.best_estimator_"
      ],
      "execution_count": 0,
      "outputs": []
    },
    {
      "metadata": {
        "id": "gBZxcqzYXUSq",
        "colab_type": "text"
      },
      "cell_type": "markdown",
      "source": [
        "### Part 3.4: Model Evaluation - Confusion Matrix (Precision, Recall, Accuracy)"
      ]
    },
    {
      "metadata": {
        "id": "zdsqgqT0hhUb",
        "colab_type": "code",
        "colab": {}
      },
      "cell_type": "code",
      "source": [
        "from sklearn.metrics import confusion_matrix\n",
        "from sklearn.metrics import precision_score\n",
        "from sklearn.metrics import recall_score\n",
        "\n",
        "def cal_evaluation(classifier, cm):\n",
        "    tn = cm[0][0]\n",
        "    fp = cm[0][1]\n",
        "    fn = cm[1][0]\n",
        "    tp = cm[1][1]\n",
        "    accuracy  = (tp + tn) / (tp + fp + fn + tn + 0.0)\n",
        "    precision = tp / (tp + fp + 0.0)\n",
        "    recall = tp / (tp + fn + 0.0)\n",
        "    print (classifier)\n",
        "    print (\"Accuracy is: %0.3f\" % accuracy)\n",
        "    print (\"precision is: %0.3f\" % precision)\n",
        "    print (\"recall is: %0.3f\" % recall)\n",
        "\n",
        "def draw_confusion_matrices(confusion_matricies):\n",
        "    class_names = ['Not','Churn']\n",
        "    for cm in confusion_matrices:\n",
        "        classifier, cm = cm[0], cm[1]\n",
        "        cal_evaluation(classifier, cm)\n",
        "        fig = plt.figure()\n",
        "        ax = fig.add_subplot(111)\n",
        "        cax = ax.matshow(cm, interpolation='nearest',cmap=plt.get_cmap('Reds'))\n",
        "        plt.title('Confusion matrix for %s' % classifier)\n",
        "        fig.colorbar(cax)\n",
        "        ax.set_xticklabels([''] + class_names)\n",
        "        ax.set_yticklabels([''] + class_names)\n",
        "        plt.xlabel('Predicted')\n",
        "        plt.ylabel('True')\n",
        "        plt.show()"
      ],
      "execution_count": 0,
      "outputs": []
    },
    {
      "metadata": {
        "id": "DaRDNX2XhhXF",
        "colab_type": "code",
        "colab": {
          "base_uri": "https://localhost:8080/",
          "height": 695
        },
        "outputId": "a423dfa2-2c01-4883-d9cc-aa5ec897535d"
      },
      "cell_type": "code",
      "source": [
        "%matplotlib inline\n",
        "\n",
        "confusion_matrices = [\n",
        "    (\"Random Forest\", confusion_matrix(y_test,best_RF_model.predict(x_test))),\n",
        "    (\"Logistic Regression\", confusion_matrix(y_test,best_LR_model.predict(x_test))),\n",
        "]\n",
        "\n",
        "draw_confusion_matrices(confusion_matrices)"
      ],
      "execution_count": 31,
      "outputs": [
        {
          "output_type": "stream",
          "text": [
            "Random Forest\n",
            "Accuracy is: 0.959\n",
            "precision is: 0.991\n",
            "recall is: 0.737\n"
          ],
          "name": "stdout"
        },
        {
          "output_type": "display_data",
          "data": {
            "image/png": "[encoded data removed]",
            "text/plain": [
              "<Figure size 432x288 with 2 Axes>"
            ]
          },
          "metadata": {
            "tags": []
          }
        },
        {
          "output_type": "stream",
          "text": [
            "Logistic Regression\n",
            "Accuracy is: 0.864\n",
            "precision is: 0.638\n",
            "recall is: 0.243\n"
          ],
          "name": "stdout"
        },
        {
          "output_type": "display_data",
          "data": {
            "image/png": "[encoded data removed]",
            "text/plain": [
              "<Figure size 432x288 with 2 Axes>"
            ]
          },
          "metadata": {
            "tags": []
          }
        }
      ]
    },
    {
      "metadata": {
        "id": "kGFS8IYRXrQR",
        "colab_type": "text"
      },
      "cell_type": "markdown",
      "source": [
        "### Part 3.4: Model Evaluation - ROC & AUC "
      ]
    },
    {
      "metadata": {
        "id": "wv6z5X5ihhaN",
        "colab_type": "code",
        "colab": {}
      },
      "cell_type": "code",
      "source": [
        "from sklearn.metrics import roc_curve\n",
        "from sklearn import metrics\n",
        "y_pred_rf = best_RF_model.predict_proba(x_test)[:, 1]\n",
        "fpr_rf, tpr_rf, _ = roc_curve(y_test, y_pred_rf)"
      ],
      "execution_count": 0,
      "outputs": []
    },
    {
      "metadata": {
        "id": "K8mkeNwwXwKj",
        "colab_type": "code",
        "colab": {
          "base_uri": "https://localhost:8080/",
          "height": 294
        },
        "outputId": "db1e118e-ef2e-438e-d08a-7cf6bfe011ab"
      },
      "cell_type": "code",
      "source": [
        "plt.figure(1)\n",
        "plt.plot([0, 1], [0, 1], 'k--')\n",
        "plt.plot(fpr_rf, tpr_rf, label='RF')\n",
        "plt.xlabel('False positive rate')\n",
        "plt.ylabel('True positive rate')\n",
        "plt.title('ROC curve - RF model')\n",
        "plt.legend(loc='best')\n",
        "plt.show()"
      ],
      "execution_count": 33,
      "outputs": [
        {
          "output_type": "display_data",
          "data": {
            "image/png": "[encoded data removed]",
            "text/plain": [
              "<Figure size 432x288 with 1 Axes>"
            ]
          },
          "metadata": {
            "tags": []
          }
        }
      ]
    },
    {
      "metadata": {
        "id": "qLX4KY4wXwMt",
        "colab_type": "code",
        "colab": {
          "base_uri": "https://localhost:8080/",
          "height": 34
        },
        "outputId": "fd736d44-04d9-4172-8f15-03007f65ca41"
      },
      "cell_type": "code",
      "source": [
        "from sklearn import metrics\n",
        "metrics.auc(fpr_rf,tpr_rf)"
      ],
      "execution_count": 34,
      "outputs": [
        {
          "output_type": "execute_result",
          "data": {
            "text/plain": [
              "0.9253041211519364"
            ]
          },
          "metadata": {
            "tags": []
          },
          "execution_count": 34
        }
      ]
    },
    {
      "metadata": {
        "id": "4LGeVWKFX2tt",
        "colab_type": "text"
      },
      "cell_type": "markdown",
      "source": [
        "## Part 4: Feature Selection"
      ]
    },
    {
      "metadata": {
        "id": "FVAn3P5GXwPk",
        "colab_type": "code",
        "colab": {
          "base_uri": "https://localhost:8080/",
          "height": 323
        },
        "outputId": "ed03e17c-2fe2-4fa7-e668-3d2afa9f6370"
      },
      "cell_type": "code",
      "source": [
        "LRmodel_l1 = LogisticRegression(penalty=\"l1\")\n",
        "LRmodel_l1.fit(x, y)\n",
        "LRmodel_l1.coef_[0]\n",
        "print (\"Logistic Regression (L1) Coefficients\")\n",
        "for k,v in sorted(zip(map(lambda x: round(x, 4), LRmodel_l1.coef_[0]), \\\n",
        "                      df2.columns), key=lambda k_v:(-abs(k_v[0]),k_v[1])):\n",
        "    print (v + \": \" + str(k))"
      ],
      "execution_count": 36,
      "outputs": [
        {
          "output_type": "stream",
          "text": [
            "Logistic Regression (L1) Coefficients\n",
            "voice_mail_plan: -0.8656\n",
            "number_customer_service_calls: 0.673\n",
            "intl_plan: 0.613\n",
            "total_day_minutes: 0.5976\n",
            "number_vmail_messages: 0.3959\n",
            "total_eve_minutes: 0.2864\n",
            "total_intl_minutes: 0.1983\n",
            "total_intl_calls: -0.1743\n",
            "total_day_charge: 0.1368\n",
            "total_night_charge: 0.1203\n",
            "total_night_minutes: 0.0814\n",
            "total_eve_charge: 0.0714\n",
            "account_length: 0.0534\n",
            "total_day_calls: 0.0495\n",
            "total_intl_charge: 0.045\n",
            "total_night_calls: -0.0288\n",
            "total_eve_calls: -0.0284\n"
          ],
          "name": "stdout"
        }
      ]
    },
    {
      "metadata": {
        "id": "R48B-oZtXwSZ",
        "colab_type": "code",
        "colab": {
          "base_uri": "https://localhost:8080/",
          "height": 323
        },
        "outputId": "e711dfa9-4735-4969-937a-cd7846f3bafd"
      },
      "cell_type": "code",
      "source": [
        "LRmodel_l2 = LogisticRegression(penalty=\"l2\")\n",
        "LRmodel_l2.fit(x, y)\n",
        "LRmodel_l2.coef_[0]\n",
        "print (\"Logistic Regression (L2) Coefficients\")\n",
        "for k,v in sorted(zip(map(lambda x: round(x, 4), LRmodel_l2.coef_[0]), \\\n",
        "                      df2.columns), key=lambda k_v:(-abs(k_v[0]),k_v[1])):\n",
        "    print (v + \": \" + str(k))"
      ],
      "execution_count": 37,
      "outputs": [
        {
          "output_type": "stream",
          "text": [
            "Logistic Regression (L2) Coefficients\n",
            "voice_mail_plan: -0.8929\n",
            "number_customer_service_calls: 0.6731\n",
            "intl_plan: 0.6132\n",
            "number_vmail_messages: 0.4234\n",
            "total_day_minutes: 0.3687\n",
            "total_day_charge: 0.3664\n",
            "total_eve_charge: 0.18\n",
            "total_eve_minutes: 0.1794\n",
            "total_intl_calls: -0.1761\n",
            "total_intl_charge: 0.1235\n",
            "total_intl_minutes: 0.1217\n",
            "total_night_minutes: 0.1028\n",
            "total_night_charge: 0.1008\n",
            "account_length: 0.0552\n",
            "total_day_calls: 0.0513\n",
            "total_night_calls: -0.0307\n",
            "total_eve_calls: -0.0304\n"
          ],
          "name": "stdout"
        }
      ]
    },
    {
      "metadata": {
        "id": "Z0_-3CRTX_OD",
        "colab_type": "text"
      },
      "cell_type": "markdown",
      "source": [
        "### Part 4.2:  Random Forest Model - Feature Importance Discussion"
      ]
    },
    {
      "metadata": {
        "id": "f7BPjCVmXwVn",
        "colab_type": "code",
        "colab": {
          "base_uri": "https://localhost:8080/",
          "height": 323
        },
        "outputId": "d60040ab-830b-414f-c4aa-f8558c971be5"
      },
      "cell_type": "code",
      "source": [
        "forest = RandomForestClassifier()\n",
        "forest.fit(x, y)\n",
        "\n",
        "importances = forest.feature_importances_\n",
        "\n",
        "# Print the feature ranking\n",
        "print(\"Feature importance ranking by Random Forest Model:\")\n",
        "for k,v in sorted(zip(map(lambda x: round(x, 4), importances), df2.columns), reverse=True):\n",
        "    print (v + \": \" + str(k))"
      ],
      "execution_count": 39,
      "outputs": [
        {
          "output_type": "stream",
          "text": [
            "Feature importance ranking by Random Forest Model:\n",
            "total_day_minutes: 0.1478\n",
            "total_day_charge: 0.1408\n",
            "number_customer_service_calls: 0.1038\n",
            "intl_plan: 0.0853\n",
            "total_eve_minutes: 0.0832\n",
            "total_intl_calls: 0.069\n",
            "total_eve_charge: 0.0667\n",
            "total_night_minutes: 0.0442\n",
            "total_intl_charge: 0.0436\n",
            "total_intl_minutes: 0.0345\n",
            "total_night_charge: 0.0329\n",
            "account_length: 0.0303\n",
            "total_night_calls: 0.0261\n",
            "voice_mail_plan: 0.0247\n",
            "total_day_calls: 0.0238\n",
            "total_eve_calls: 0.0237\n",
            "number_vmail_messages: 0.0195\n"
          ],
          "name": "stdout"
        }
      ]
    },
    {
      "metadata": {
        "id": "hs99vQwSXwJ3",
        "colab_type": "code",
        "colab": {}
      },
      "cell_type": "code",
      "source": [
        ""
      ],
      "execution_count": 0,
      "outputs": []
    }
  ]
}